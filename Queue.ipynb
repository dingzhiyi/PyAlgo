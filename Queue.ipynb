{
 "cells": [
  {
   "cell_type": "markdown",
   "metadata": {},
   "source": [
    "## Queue: \n",
    "FIFO,LILO\n",
    "## Priority Queue: \n",
    "decided by the priority rather than when the order\n",
    "- One example: Task Manager\n",
    "- Keyword: Dynamic\n",
    "- in AI: When to attack an enemiy: AOI\n",
    "- Good at dealing with dynamic data\n",
    "- Another example: To choose largest M elements from N elements:\n",
    "- - If using sort algorithm: O($N\\log(N)$)\n",
    "- - if Using Priority Queue: O($N\\log(M)$)\n",
    "- Main function: in queue and out of queue"
   ]
  },
  {
   "cell_type": "markdown",
   "metadata": {},
   "source": [
    "## Comparing different data structure\n",
    "- normal array:\n",
    "- - in queue O(1)\n",
    "- - out of queue O(n)\n",
    "- sorted array:\n",
    "- - in queue O(n)\n",
    "- - out of queue O(1)\n",
    "- Heap\n",
    "- - in queue O($\\log$(n))\n",
    "- - out of queue O($\\log$(n))"
   ]
  },
  {
   "cell_type": "markdown",
   "metadata": {},
   "source": [
    "## Binary Heap\n",
    "- All childs are less than parents\n",
    "- must be a complete binary tree\n",
    "- Max Heap"
   ]
  },
  {
   "cell_type": "markdown",
   "metadata": {},
   "source": [
    "## Classic implementation of Binary Heap\n",
    "- By array\n",
    "- left child's index is always twice of parent's index\n",
    "- right child's index is 2 * (parent's index) + 1\n",
    "- index Start from 1"
   ]
  },
  {
   "cell_type": "markdown",
   "metadata": {},
   "source": [
    "- parent[i] = i //2\n",
    "- left child[i] = i * 2\n",
    "- right child[i] = i * 2 + 1"
   ]
  },
  {
   "cell_type": "code",
   "execution_count": null,
   "metadata": {
    "collapsed": true
   },
   "outputs": [],
   "source": []
  }
 ],
 "metadata": {
  "kernelspec": {
   "display_name": "Python 3",
   "language": "python",
   "name": "python3"
  },
  "language_info": {
   "codemirror_mode": {
    "name": "ipython",
    "version": 3
   },
   "file_extension": ".py",
   "mimetype": "text/x-python",
   "name": "python",
   "nbconvert_exporter": "python",
   "pygments_lexer": "ipython3",
   "version": "3.6.0"
  }
 },
 "nbformat": 4,
 "nbformat_minor": 2
}
