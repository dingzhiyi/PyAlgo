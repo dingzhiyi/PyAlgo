{
 "cells": [
  {
   "cell_type": "markdown",
   "metadata": {},
   "source": [
    "## Red_Black-Tree\n",
    "- Basically the height will never get larger than O($log^{n}$)\n",
    "- RBT is a BST with an extra bit of data: its color: RED or BLACK\n",
    "- RBT makes sure that any path from the root to a leaf is no more than twice as long as any other such path"
   ]
  },
  {
   "cell_type": "markdown",
   "metadata": {},
   "source": [
    "## RBT's properties\n",
    "- every node: either red or black\n",
    "- root is black\n",
    "- every NULL leaf is black\n",
    "- if a node is red, then both of its children are black\n",
    "- for each node, all paths from that node to descendent leaves contain the same number of black nodes"
   ]
  },
  {
   "cell_type": "code",
   "execution_count": null,
   "metadata": {
    "collapsed": true
   },
   "outputs": [],
   "source": []
  }
 ],
 "metadata": {
  "kernelspec": {
   "display_name": "Python 3",
   "language": "python",
   "name": "python3"
  },
  "language_info": {
   "codemirror_mode": {
    "name": "ipython",
    "version": 3
   },
   "file_extension": ".py",
   "mimetype": "text/x-python",
   "name": "python",
   "nbconvert_exporter": "python",
   "pygments_lexer": "ipython3",
   "version": "3.6.0"
  }
 },
 "nbformat": 4,
 "nbformat_minor": 2
}
