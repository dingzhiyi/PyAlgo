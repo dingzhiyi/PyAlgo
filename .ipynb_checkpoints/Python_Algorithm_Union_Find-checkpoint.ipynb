{
 "cells": [
  {
   "cell_type": "markdown",
   "metadata": {},
   "source": [
    "## Union Find\n",
    "\n",
    "- union(p,q)\n",
    "- find(p)\n",
    "#### Used to find out isConnected(p,q)"
   ]
  },
  {
   "cell_type": "markdown",
   "metadata": {},
   "source": [
    "## Simple Union Find"
   ]
  },
  {
   "cell_type": "code",
   "execution_count": 3,
   "metadata": {
    "collapsed": true
   },
   "outputs": [],
   "source": [
    "class UnionFind:\n",
    "    def __init__(self,n):\n",
    "        self.count = n\n",
    "        self.id = [x for x in range(n)]\n",
    "    \n",
    "    def __del__(self):\n",
    "        del self.id\n",
    "    \n",
    "## Quick Find O(1)\n",
    "    def find(p):\n",
    "        assert p>=0 and p<n\n",
    "        return self.id[p]\n",
    "    \n",
    "    def isConnected(p,q):\n",
    "        return self.find(p) == self.find(q)\n",
    "## Union O(n)   \n",
    "    def union(p,q):\n",
    "        pId = self.find(p)\n",
    "        qId = self.find(q)\n",
    "        if qId == pId:\n",
    "            return \n",
    "        for i in range(count):\n",
    "            if id[i] == pId:\n",
    "                id[i] = qId"
   ]
  },
  {
   "cell_type": "markdown",
   "metadata": {},
   "source": [
    "## Typical Union Find"
   ]
  },
  {
   "cell_type": "code",
   "execution_count": 1,
   "metadata": {
    "collapsed": false
   },
   "outputs": [],
   "source": [
    "class UnionFind:\n",
    "    def __init__(self,n):\n",
    "        self.count = n\n",
    "        self.parent = [x for x in range(n)]\n",
    "    \n",
    "    def find(self,p):\n",
    "        assert p>=0 and p < self.count\n",
    "        while p!=self.parent[p]:\n",
    "            p = self.parent[p]\n",
    "        return p\n",
    "    \n",
    "    def isConnected(self,p,q):\n",
    "        return self.find(p) == self.find(q)\n",
    "    \n",
    "    def union(self,p,q):\n",
    "        parent_p = self.find(p)\n",
    "        parent_q = self.find(q)\n",
    "        if parent_p == parent_q:\n",
    "            return\n",
    "        self.parent[parent_p] = parent_q"
   ]
  },
  {
   "cell_type": "code",
   "execution_count": 2,
   "metadata": {
    "collapsed": false
   },
   "outputs": [
    {
     "name": "stdout",
     "output_type": "stream",
     "text": [
      "[0, 1, 2, 3, 4, 5, 6, 7, 8, 9]\n"
     ]
    }
   ],
   "source": [
    "Union = UnionFind(10)\n",
    "print(Union.parent)"
   ]
  },
  {
   "cell_type": "code",
   "execution_count": 3,
   "metadata": {
    "collapsed": false
   },
   "outputs": [],
   "source": [
    "Union.union(0,3)"
   ]
  },
  {
   "cell_type": "code",
   "execution_count": 4,
   "metadata": {
    "collapsed": false
   },
   "outputs": [
    {
     "data": {
      "text/plain": [
       "[3, 1, 2, 3, 4, 5, 6, 7, 8, 9]"
      ]
     },
     "execution_count": 4,
     "metadata": {},
     "output_type": "execute_result"
    }
   ],
   "source": [
    "Union.parent"
   ]
  },
  {
   "cell_type": "code",
   "execution_count": 5,
   "metadata": {
    "collapsed": true
   },
   "outputs": [],
   "source": [
    "Union.union(0,5)"
   ]
  },
  {
   "cell_type": "code",
   "execution_count": 6,
   "metadata": {
    "collapsed": false
   },
   "outputs": [
    {
     "data": {
      "text/plain": [
       "[3, 1, 2, 5, 4, 5, 6, 7, 8, 9]"
      ]
     },
     "execution_count": 6,
     "metadata": {},
     "output_type": "execute_result"
    }
   ],
   "source": [
    "Union.parent"
   ]
  },
  {
   "cell_type": "code",
   "execution_count": null,
   "metadata": {
    "collapsed": true
   },
   "outputs": [],
   "source": []
  }
 ],
 "metadata": {
  "kernelspec": {
   "display_name": "Python 3",
   "language": "python",
   "name": "python3"
  },
  "language_info": {
   "codemirror_mode": {
    "name": "ipython",
    "version": 3
   },
   "file_extension": ".py",
   "mimetype": "text/x-python",
   "name": "python",
   "nbconvert_exporter": "python",
   "pygments_lexer": "ipython3",
   "version": "3.6.0"
  }
 },
 "nbformat": 4,
 "nbformat_minor": 2
}
