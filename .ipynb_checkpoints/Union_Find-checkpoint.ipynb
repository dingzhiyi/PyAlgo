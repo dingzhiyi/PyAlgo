{
 "cells": [
  {
   "cell_type": "markdown",
   "metadata": {},
   "source": [
    "## Union Find\n",
    "\n",
    "- union(p,q)\n",
    "- find(p)\n",
    "#### Used to find out isConnected(p,q)"
   ]
  },
  {
   "cell_type": "markdown",
   "metadata": {},
   "source": [
    "## Simple Union Find"
   ]
  },
  {
   "cell_type": "code",
   "execution_count": 3,
   "metadata": {
    "collapsed": true
   },
   "outputs": [],
   "source": [
    "class UnionFind:\n",
    "    def __init__(self,n):\n",
    "        self.count = n\n",
    "        self.id = [x for x in range(n)]\n",
    "    \n",
    "    def __del__(self):\n",
    "        del self.id\n",
    "    \n",
    "## Quick Find O(1)\n",
    "    def find(p):\n",
    "        assert p>=0 and p<n\n",
    "        return self.id[p]\n",
    "    \n",
    "    def isConnected(p,q):\n",
    "        return self.find(p) == self.find(q)\n",
    "## Union O(n)   \n",
    "    def union(p,q):\n",
    "        pId = self.find(p)\n",
    "        qId = self.find(q)\n",
    "        if qId == pId:\n",
    "            return \n",
    "        for i in range(count):\n",
    "            if id[i] == pId:\n",
    "                id[i] = qId"
   ]
  },
  {
   "cell_type": "markdown",
   "metadata": {},
   "source": [
    "## Typical Union Find"
   ]
  },
  {
   "cell_type": "code",
   "execution_count": 11,
   "metadata": {
    "collapsed": false
   },
   "outputs": [],
   "source": [
    "## Plus tiny optimization\n",
    "## Considering the fact that all the node will be connected and turned into the tree, how to balance a tree is also very important\n",
    "## Connect to the parent node based on the rank\n",
    "\n",
    "class UnionFind:\n",
    "    def __init__(self,n):\n",
    "        self.count = n\n",
    "        self.parent = [x for x in range(n)]\n",
    "    \n",
    "    def find(self,p):\n",
    "        assert p>=0 and p < self.count\n",
    "        length = 0\n",
    "        while p!=self.parent[p]:\n",
    "            p = self.parent[p]\n",
    "            length += 1\n",
    "        return p,length\n",
    "    \n",
    "    def isConnected(self,p,q):\n",
    "        return self.find(p) == self.find(q)\n",
    "    \n",
    "    def rank(self,p):\n",
    "        count = 1\n",
    "        while self.parent[p] != p:\n",
    "            p = self.parent[p]\n",
    "            count += 1\n",
    "        return count \n",
    "    \n",
    "    def union(self,p,q):\n",
    "        parent_p, length_p = self.find(p)\n",
    "        parent_q, length_q = self.find(q)\n",
    "        if length_p < length_q:\n",
    "            self.parent[parent_p] = parent_q\n",
    "        else:\n",
    "            self.parent[parent_q] = parent_p"
   ]
  },
  {
   "cell_type": "code",
   "execution_count": 12,
   "metadata": {
    "collapsed": false
   },
   "outputs": [
    {
     "name": "stdout",
     "output_type": "stream",
     "text": [
      "[0, 1, 2, 3, 4, 5, 6, 7, 8, 9]\n"
     ]
    }
   ],
   "source": [
    "Union = UnionFind(10)\n",
    "print(Union.parent)"
   ]
  },
  {
   "cell_type": "code",
   "execution_count": 13,
   "metadata": {
    "collapsed": false
   },
   "outputs": [],
   "source": [
    "Union.union(0,3)"
   ]
  },
  {
   "cell_type": "code",
   "execution_count": 14,
   "metadata": {
    "collapsed": false
   },
   "outputs": [
    {
     "data": {
      "text/plain": [
       "[0, 1, 2, 0, 4, 5, 6, 7, 8, 9]"
      ]
     },
     "execution_count": 14,
     "metadata": {},
     "output_type": "execute_result"
    }
   ],
   "source": [
    "Union.parent"
   ]
  },
  {
   "cell_type": "code",
   "execution_count": 15,
   "metadata": {
    "collapsed": true
   },
   "outputs": [],
   "source": [
    "Union.union(0,5)"
   ]
  },
  {
   "cell_type": "code",
   "execution_count": 16,
   "metadata": {
    "collapsed": false
   },
   "outputs": [
    {
     "data": {
      "text/plain": [
       "[0, 1, 2, 0, 4, 0, 6, 7, 8, 9]"
      ]
     },
     "execution_count": 16,
     "metadata": {},
     "output_type": "execute_result"
    }
   ],
   "source": [
    "Union.parent"
   ]
  },
  {
   "cell_type": "code",
   "execution_count": 17,
   "metadata": {
    "collapsed": true
   },
   "outputs": [],
   "source": [
    "Union.union(0,7)"
   ]
  },
  {
   "cell_type": "code",
   "execution_count": 18,
   "metadata": {
    "collapsed": false
   },
   "outputs": [
    {
     "data": {
      "text/plain": [
       "[0, 1, 2, 0, 4, 0, 6, 0, 8, 9]"
      ]
     },
     "execution_count": 18,
     "metadata": {},
     "output_type": "execute_result"
    }
   ],
   "source": [
    "Union.parent"
   ]
  },
  {
   "cell_type": "code",
   "execution_count": 19,
   "metadata": {
    "collapsed": false
   },
   "outputs": [
    {
     "data": {
      "text/plain": [
       "2"
      ]
     },
     "execution_count": 19,
     "metadata": {},
     "output_type": "execute_result"
    }
   ],
   "source": [
    "Union.rank(3)"
   ]
  },
  {
   "cell_type": "markdown",
   "metadata": {},
   "source": [
    "#### Path Compression\n",
    "Used to optimize"
   ]
  },
  {
   "cell_type": "code",
   "execution_count": 20,
   "metadata": {
    "collapsed": true
   },
   "outputs": [],
   "source": [
    "## Plus tiny optimization\n",
    "## Considering the fact that all the node will be connected and turned into the tree, how to balance a tree is also very important\n",
    "## Connect to the parent node based on the rank\n",
    "\n",
    "class UnionFind:\n",
    "    def __init__(self,n):\n",
    "        self.count = n\n",
    "        self.parent = [x for x in range(n)]\n",
    "    \n",
    "    def find(self,p):\n",
    "        assert p>=0 and p < self.count\n",
    "        length = 0\n",
    "        while p!=self.parent[p]:\n",
    "            ## Change the parent of p if parent[p] is not root\n",
    "            ## Path compression\n",
    "            self.parent[p] = self.parent[self.parent[p]]\n",
    "            p = self.parent[p]\n",
    "            length += 1\n",
    "        return p,length\n",
    "    \n",
    "    def isConnected(self,p,q):\n",
    "        return self.find(p) == self.find(q)\n",
    "    \n",
    "    def rank(self,p):\n",
    "        count = 1\n",
    "        while self.parent[p] != p:\n",
    "            p = self.parent[p]\n",
    "            count += 1\n",
    "        return count \n",
    "    \n",
    "    def union(self,p,q):\n",
    "        parent_p, length_p = self.find(p)\n",
    "        parent_q, length_q = self.find(q)\n",
    "        if length_p < length_q:\n",
    "            self.parent[parent_p] = parent_q\n",
    "        else:\n",
    "            self.parent[parent_q] = parent_p"
   ]
  },
  {
   "cell_type": "markdown",
   "metadata": {},
   "source": [
    "#### A better version of path compression\n",
    "- This one is better theoretically\n",
    "- Though due to the high cost of recursion, sometimes this version of path compression might even take more time"
   ]
  },
  {
   "cell_type": "code",
   "execution_count": 23,
   "metadata": {
    "collapsed": true
   },
   "outputs": [],
   "source": [
    "## Plus tiny optimization\n",
    "## Considering the fact that all the node will be connected and turned into the tree, how to balance a tree is also very important\n",
    "## Connect to the parent node based on the rank\n",
    "\n",
    "class UnionFind:\n",
    "    def __init__(self,n):\n",
    "        self.count = n\n",
    "        self.parent = [x for x in range(n)]\n",
    "    \n",
    "    def find(self,p):\n",
    "        assert p>=0 and p < self.count\n",
    "        if self.parent[p] != p:\n",
    "            self.parent[p] = find(self.parent[p])\n",
    "        return parent[p]\n",
    "    \n",
    "    def isConnected(self,p,q):\n",
    "        return self.find(p) == self.find(q)\n",
    "    \n",
    "    def rank(self,p):\n",
    "        count = 1\n",
    "        while self.parent[p] != p:\n",
    "            p = self.parent[p]\n",
    "            count += 1\n",
    "        return count \n",
    "    \n",
    "    def union(self,p,q):\n",
    "        parent_p = self.find(p)\n",
    "        length_p = self.rank(p)\n",
    "        parent_q = self.find(q)\n",
    "        length_q = self.rank(q)\n",
    "        if length_p < length_q:\n",
    "            self.parent[parent_p] = parent_q\n",
    "        else:\n",
    "            self.parent[parent_q] = parent_p"
   ]
  },
  {
   "cell_type": "code",
   "execution_count": null,
   "metadata": {
    "collapsed": true
   },
   "outputs": [],
   "source": []
  }
 ],
 "metadata": {
  "kernelspec": {
   "display_name": "Python 3",
   "language": "python",
   "name": "python3"
  },
  "language_info": {
   "codemirror_mode": {
    "name": "ipython",
    "version": 3
   },
   "file_extension": ".py",
   "mimetype": "text/x-python",
   "name": "python",
   "nbconvert_exporter": "python",
   "pygments_lexer": "ipython3",
   "version": "3.6.0"
  }
 },
 "nbformat": 4,
 "nbformat_minor": 2
}
