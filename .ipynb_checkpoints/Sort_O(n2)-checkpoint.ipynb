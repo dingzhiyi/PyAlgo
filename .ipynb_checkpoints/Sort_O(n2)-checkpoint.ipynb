{
 "cells": [
  {
   "cell_type": "markdown",
   "metadata": {},
   "source": [
    "# Start with some sort algorithm with O($n^{2}$)\n",
    "## Selection Sort"
   ]
  },
  {
   "cell_type": "code",
   "execution_count": 9,
   "metadata": {
    "collapsed": false
   },
   "outputs": [],
   "source": [
    "def selection_sort(list):\n",
    "    for i in range(len(list)):\n",
    "        min_index = i\n",
    "        for j in range(i,len(list)):\n",
    "            if list[j] < list[min_index]:\n",
    "                min_index = j\n",
    "        list[i] = list[min_index]\n",
    "    print(list)"
   ]
  },
  {
   "cell_type": "code",
   "execution_count": 10,
   "metadata": {
    "collapsed": false
   },
   "outputs": [
    {
     "name": "stdout",
     "output_type": "stream",
     "text": [
      "[1, 2, 2, 2, 4, 4, 4, 4, 4, 12, 65, 234]\n"
     ]
    }
   ],
   "source": [
    "selection_sort([1,65,4,2,4,6,7,8,4,12,65,234])"
   ]
  },
  {
   "cell_type": "markdown",
   "metadata": {},
   "source": [
    "## Insertion Sort\n",
    "Insertion is better then Other O($n^{2}$) because\n",
    " - While Insertion Sort might stop in the iteration, Selection Sort always have to search every node of loops\n",
    " - Sample data in real world tends to be organized, that's why insertion sort can sometimes beat those O($n^{2}$) algorithms\n",
    "### This is the basic version of solution"
   ]
  },
  {
   "cell_type": "code",
   "execution_count": 12,
   "metadata": {
    "collapsed": false
   },
   "outputs": [],
   "source": [
    "def insertion_sort(list):\n",
    "    for i in range(len(list)):\n",
    "        for j in range(i,0,-1):\n",
    "            if list[j]<list[j-1]:\n",
    "                list[j-1],list[j] = list[j], list[j-1]\n",
    "    print(list)"
   ]
  },
  {
   "cell_type": "code",
   "execution_count": 13,
   "metadata": {
    "collapsed": false
   },
   "outputs": [
    {
     "name": "stdout",
     "output_type": "stream",
     "text": [
      "[1, 42, 43, 63, 245, 475, 2431]\n"
     ]
    }
   ],
   "source": [
    "insertion_sort([1,43,245,42,63,475,2431])"
   ]
  },
  {
   "cell_type": "markdown",
   "metadata": {},
   "source": [
    "### This is a optimized version of it"
   ]
  },
  {
   "cell_type": "code",
   "execution_count": 43,
   "metadata": {
    "collapsed": true
   },
   "outputs": [],
   "source": [
    "def insertion_sort(list):\n",
    "    for i in range(len(list)):\n",
    "        saved = list[i]\n",
    "        position = i\n",
    "        for j in range(i,0,-1):\n",
    "            if saved<list[j-1]:\n",
    "                list[j] = list[j-1]\n",
    "                position-=1\n",
    "            list[position]=saved\n",
    "            \n",
    "    print(list)"
   ]
  },
  {
   "cell_type": "code",
   "execution_count": 44,
   "metadata": {
    "collapsed": false
   },
   "outputs": [
    {
     "name": "stdout",
     "output_type": "stream",
     "text": [
      "[1, 42, 43, 63, 245, 475, 2431]\n"
     ]
    }
   ],
   "source": [
    "insertion_sort([1,43,245,42,63,475,2431])"
   ]
  },
  {
   "cell_type": "markdown",
   "metadata": {},
   "source": [
    "## Shell_sort\n",
    "- Basically a better version of insertion sort\n",
    "- Tend to behave between O(n) and O($n^{2}$)"
   ]
  },
  {
   "cell_type": "code",
   "execution_count": 45,
   "metadata": {
    "collapsed": true
   },
   "outputs": [],
   "source": [
    "def shell_sort(list):\n",
    "    sublist = len(list)//2\n",
    "    while sublist > 0:\n",
    "        for start in range(sublist):\n",
    "            gap_insertion(list,start,sublist)\n",
    "        sublist = sublist//2\n",
    "    print(list)\n",
    "def gap_insertion(list,start,gap):\n",
    "    for i in range(start+gap,len(list),gap):\n",
    "        current_value = list[i]\n",
    "        position = i\n",
    "        while position >= gap and current_value < list[position-gap]:\n",
    "            list[position] = list[position-gap]\n",
    "            position -= gap\n",
    "        list[position] = current_value"
   ]
  },
  {
   "cell_type": "code",
   "execution_count": 46,
   "metadata": {
    "collapsed": false
   },
   "outputs": [
    {
     "name": "stdout",
     "output_type": "stream",
     "text": [
      "[1, 42, 43, 63, 245, 475, 2431]\n"
     ]
    }
   ],
   "source": [
    "shell_sort([1,43,245,42,63,475,2431])"
   ]
  },
  {
   "cell_type": "markdown",
   "metadata": {},
   "source": [
    "## Bubble Sort\n",
    "- Tend to be the most inefficient sort algorithm\n",
    "- Yet since it can stop earlier, sometimes its behavior is not that bad"
   ]
  },
  {
   "cell_type": "code",
   "execution_count": 50,
   "metadata": {
    "collapsed": false
   },
   "outputs": [],
   "source": [
    "def bubble_sort(list):\n",
    "    for i in range(len(list)-1,0,-1):\n",
    "        for j in range(i):\n",
    "            if list[j+1]<list[j]:\n",
    "                list[j],list[j+1]=list[j+1],list[j]\n",
    "    print(list)"
   ]
  },
  {
   "cell_type": "code",
   "execution_count": 51,
   "metadata": {
    "collapsed": false
   },
   "outputs": [
    {
     "name": "stdout",
     "output_type": "stream",
     "text": [
      "[1, 42, 43, 63, 245, 475, 2431]\n"
     ]
    }
   ],
   "source": [
    "bubble_sort([1,43,245,42,63,475,2431])"
   ]
  },
  {
   "cell_type": "markdown",
   "metadata": {},
   "source": [
    "### Here is a better version with stop in it\n",
    "## Short_bubble"
   ]
  },
  {
   "cell_type": "code",
   "execution_count": 52,
   "metadata": {
    "collapsed": true
   },
   "outputs": [],
   "source": [
    "def short_bubble(list):\n",
    "    exchange = True\n",
    "    for i in range(len(list)-1,0,-1):\n",
    "        exchange = False\n",
    "        for j in range(i):\n",
    "            if list[j]>list[j+1]:\n",
    "                list[j],list[j+1] = list[j+1],list[j]\n",
    "                exchange = True\n",
    "        if not exchange:\n",
    "            return print(list)\n",
    "    print(list)"
   ]
  },
  {
   "cell_type": "code",
   "execution_count": 53,
   "metadata": {
    "collapsed": false
   },
   "outputs": [
    {
     "name": "stdout",
     "output_type": "stream",
     "text": [
      "[1, 42, 43, 63, 245, 475, 2431]\n"
     ]
    }
   ],
   "source": [
    "short_bubble([1,43,245,42,63,475,2431])"
   ]
  },
  {
   "cell_type": "code",
   "execution_count": null,
   "metadata": {
    "collapsed": true
   },
   "outputs": [],
   "source": []
  }
 ],
 "metadata": {
  "kernelspec": {
   "display_name": "Python 3",
   "language": "python",
   "name": "python3"
  },
  "language_info": {
   "codemirror_mode": {
    "name": "ipython",
    "version": 3
   },
   "file_extension": ".py",
   "mimetype": "text/x-python",
   "name": "python",
   "nbconvert_exporter": "python",
   "pygments_lexer": "ipython3",
   "version": "3.6.0"
  }
 },
 "nbformat": 4,
 "nbformat_minor": 2
}
