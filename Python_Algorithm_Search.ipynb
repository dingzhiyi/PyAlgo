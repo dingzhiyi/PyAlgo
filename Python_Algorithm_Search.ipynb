{
 "cells": [
  {
   "cell_type": "markdown",
   "metadata": {},
   "source": [
    "## Binary Search\n",
    "- The list needs to be sorted first——Why we need sort algorithm\n",
    "- O($\\log(n)$)"
   ]
  },
  {
   "cell_type": "code",
   "execution_count": 1,
   "metadata": {
    "collapsed": true
   },
   "outputs": [],
   "source": [
    "def binary_search(list,target):\n",
    "    start = 0\n",
    "    end = len(list)-1\n",
    "    while start<=end:\n",
    "        mid = (start+end)//2 \n",
    "        #Since it's python3 it is just fine to write code like this\n",
    "        #If it is in C++ (start+end)/2 might cause some boundary problems.Thus:\n",
    "        #Instead of (start+end)/2, we should write\n",
    "        #start+(end-start)/2\n",
    "        #Which cause no bug anymore\n",
    "        if list[mid]==target:\n",
    "            return mid\n",
    "        if target < list[mid]:\n",
    "            end = mid-1\n",
    "        else:\n",
    "            start = mid+1\n",
    "    return -1"
   ]
  },
  {
   "cell_type": "code",
   "execution_count": 2,
   "metadata": {
    "collapsed": false
   },
   "outputs": [
    {
     "data": {
      "text/plain": [
       "5"
      ]
     },
     "execution_count": 2,
     "metadata": {},
     "output_type": "execute_result"
    }
   ],
   "source": [
    "binary_search([1,2,3,4,5,16,17,18,19],16)"
   ]
  },
  {
   "cell_type": "markdown",
   "metadata": {},
   "source": [
    "## Binary Search using Recursive"
   ]
  },
  {
   "cell_type": "code",
   "execution_count": 3,
   "metadata": {
    "collapsed": false
   },
   "outputs": [
    {
     "ename": "SyntaxError",
     "evalue": "invalid syntax (<ipython-input-3-d686e46e44b3>, line 1)",
     "output_type": "error",
     "traceback": [
      "\u001b[0;36m  File \u001b[0;32m\"<ipython-input-3-d686e46e44b3>\"\u001b[0;36m, line \u001b[0;32m1\u001b[0m\n\u001b[0;31m    def binary_\u001b[0m\n\u001b[0m               ^\u001b[0m\n\u001b[0;31mSyntaxError\u001b[0m\u001b[0;31m:\u001b[0m invalid syntax\n"
     ]
    }
   ],
   "source": [
    "def binary_search(list,target):\n",
    "    "
   ]
  },
  {
   "cell_type": "markdown",
   "metadata": {},
   "source": [
    "## FLOOR and CEIL"
   ]
  },
  {
   "cell_type": "code",
   "execution_count": 4,
   "metadata": {
    "collapsed": true
   },
   "outputs": [],
   "source": [
    "def floor(list,target):\n",
    "    pass"
   ]
  },
  {
   "cell_type": "code",
   "execution_count": 5,
   "metadata": {
    "collapsed": true
   },
   "outputs": [],
   "source": [
    "def ceil(list,target):\n",
    "    pass"
   ]
  },
  {
   "cell_type": "markdown",
   "metadata": {},
   "source": [
    "## Binary Search Tree\n",
    "- Basically dictionary\n",
    "- Why not use list index as keys?\n",
    "- - Sometimes keys are just not integer\n",
    "- - It might be the sparse array\n",
    "### Advantages of Binary SearchTree:\n",
    "- for normal array, the search, insert, remove is O(n)\n",
    "- for sorted array, the search is O($\\log(n)$), the insert and remove is O(n)\n",
    "- for binary search tree, the search, insert, remove is O($log(n)$)\n",
    "### So Binary Search Tree can be used in:\n",
    "- Search/insert/remove (dynamically changing the data)\n",
    "- Can be used to figure out the relationship between different data\n",
    "- - min,max,floor,ceil,rank,select\n",
    "### Binary Search Tree doesn't need to be a complete Binary Tree"
   ]
  },
  {
   "cell_type": "code",
   "execution_count": 101,
   "metadata": {
    "collapsed": false
   },
   "outputs": [],
   "source": [
    "class Node:\n",
    "    def __init__(self,key,value):\n",
    "        self.left = None\n",
    "        self.right = None\n",
    "        self.key = key\n",
    "        self.value = value\n",
    "\n",
    "class BST:\n",
    "    count = 0\n",
    "    def __init__(self,root=None):\n",
    "        if not root:\n",
    "            self.count+=1\n",
    "        self.root = root\n",
    "    def is_empty(self):\n",
    "        return count==0\n",
    "    def insert(self,key,value):\n",
    "        self.root = self.ins(self.root,key,value)\n",
    "        \n",
    "    def ins(self,root,key,value):\n",
    "        if not root:\n",
    "            self.count+=1\n",
    "            return Node(key,value)\n",
    "        if key == root.key:\n",
    "            root.value = value\n",
    "        elif key < root.key:\n",
    "            root.left = self.ins(root.left,key,value)\n",
    "        else:\n",
    "            root.right = self.ins(root.right,key,value)\n",
    "            \n",
    "        return root\n",
    "    def print_BST_order(self):\n",
    "        if not self.root:\n",
    "            return\n",
    "        print_BST_order(self.root.left)\n",
    "        print(\"Key:{},Value:{}\".format(self.root.key,self.root.value))\n",
    "        print_BST_order(self.root.right)"
   ]
  },
  {
   "cell_type": "code",
   "execution_count": 102,
   "metadata": {
    "collapsed": false
   },
   "outputs": [],
   "source": [
    "a = Node(10,\"第一哟\")\n",
    "b = Node(3,\"第二哟\")\n",
    "c = Node(63,\"第三哟\")\n",
    "d = Node(15,\"第四哟\")"
   ]
  },
  {
   "cell_type": "code",
   "execution_count": 103,
   "metadata": {
    "collapsed": false
   },
   "outputs": [],
   "source": [
    "tree = BST()"
   ]
  },
  {
   "cell_type": "code",
   "execution_count": 104,
   "metadata": {
    "collapsed": false
   },
   "outputs": [],
   "source": [
    "tree.insert(10,\"First\")"
   ]
  },
  {
   "cell_type": "code",
   "execution_count": 105,
   "metadata": {
    "collapsed": false
   },
   "outputs": [],
   "source": [
    "tree.insert(3,\"Second\")"
   ]
  },
  {
   "cell_type": "code",
   "execution_count": 106,
   "metadata": {
    "collapsed": false
   },
   "outputs": [],
   "source": [
    "tree.insert(63,\"Third\")"
   ]
  },
  {
   "cell_type": "code",
   "execution_count": 107,
   "metadata": {
    "collapsed": true
   },
   "outputs": [],
   "source": [
    "tree.insert(15,\"Fourth\")"
   ]
  },
  {
   "cell_type": "code",
   "execution_count": 108,
   "metadata": {
    "collapsed": false
   },
   "outputs": [
    {
     "name": "stdout",
     "output_type": "stream",
     "text": [
      "Key:3,Value:Second\n",
      "Key:10,Value:First\n",
      "Key:15,Value:Fourth\n",
      "Key:63,Value:Third\n"
     ]
    }
   ],
   "source": [
    "tree.print_BST_order()"
   ]
  },
  {
   "cell_type": "code",
   "execution_count": null,
   "metadata": {
    "collapsed": true
   },
   "outputs": [],
   "source": []
  }
 ],
 "metadata": {
  "kernelspec": {
   "display_name": "Python 3",
   "language": "python",
   "name": "python3"
  },
  "language_info": {
   "codemirror_mode": {
    "name": "ipython",
    "version": 3
   },
   "file_extension": ".py",
   "mimetype": "text/x-python",
   "name": "python",
   "nbconvert_exporter": "python",
   "pygments_lexer": "ipython3",
   "version": "3.6.0"
  }
 },
 "nbformat": 4,
 "nbformat_minor": 2
}
