{
 "cells": [
  {
   "cell_type": "markdown",
   "metadata": {},
   "source": [
    "## Binary Search\n",
    "- The list needs to be sorted first——Why we need sort algorithm\n",
    "- O($\\log(n)$)"
   ]
  },
  {
   "cell_type": "code",
   "execution_count": 1,
   "metadata": {
    "collapsed": true
   },
   "outputs": [],
   "source": [
    "def binary_search(list,target):\n",
    "    start = 0\n",
    "    end = len(list)-1\n",
    "    while start<=end:\n",
    "        mid = (start+end)//2 \n",
    "        #Since it's python3 it is just fine to write code like this\n",
    "        #If it is in C++ (start+end)/2 might cause some boundary problems.Thus:\n",
    "        #Instead of (start+end)/2, we should write\n",
    "        #start+(end-start)/2\n",
    "        #Which cause no bug anymore\n",
    "        if list[mid]==target:\n",
    "            return mid\n",
    "        if target < list[mid]:\n",
    "            end = mid-1\n",
    "        else:\n",
    "            start = mid+1\n",
    "    return -1"
   ]
  },
  {
   "cell_type": "code",
   "execution_count": 2,
   "metadata": {
    "collapsed": false
   },
   "outputs": [
    {
     "data": {
      "text/plain": [
       "5"
      ]
     },
     "execution_count": 2,
     "metadata": {},
     "output_type": "execute_result"
    }
   ],
   "source": [
    "binary_search([1,2,3,4,5,16,17,18,19],16)"
   ]
  },
  {
   "cell_type": "markdown",
   "metadata": {},
   "source": [
    "## Binary Search using Recursive"
   ]
  },
  {
   "cell_type": "code",
   "execution_count": 3,
   "metadata": {
    "collapsed": false
   },
   "outputs": [
    {
     "ename": "SyntaxError",
     "evalue": "invalid syntax (<ipython-input-3-d686e46e44b3>, line 1)",
     "output_type": "error",
     "traceback": [
      "\u001b[0;36m  File \u001b[0;32m\"<ipython-input-3-d686e46e44b3>\"\u001b[0;36m, line \u001b[0;32m1\u001b[0m\n\u001b[0;31m    def binary_\u001b[0m\n\u001b[0m               ^\u001b[0m\n\u001b[0;31mSyntaxError\u001b[0m\u001b[0;31m:\u001b[0m invalid syntax\n"
     ]
    }
   ],
   "source": [
    "def binary_search(list,target):\n",
    "    "
   ]
  },
  {
   "cell_type": "markdown",
   "metadata": {},
   "source": [
    "## FLOOR and CEIL"
   ]
  },
  {
   "cell_type": "code",
   "execution_count": 4,
   "metadata": {
    "collapsed": true
   },
   "outputs": [],
   "source": [
    "def floor(list,target):\n",
    "    pass"
   ]
  },
  {
   "cell_type": "code",
   "execution_count": 5,
   "metadata": {
    "collapsed": true
   },
   "outputs": [],
   "source": [
    "def ceil(list,target):\n",
    "    pass"
   ]
  },
  {
   "cell_type": "markdown",
   "metadata": {},
   "source": [
    "## Binary Search Tree\n",
    "- Basically dictionary\n",
    "- Why not use list index as keys?\n",
    "- - Sometimes keys are just not integer\n",
    "- - It might be the sparse array\n",
    "### Advantages of Binary SearchTree:\n",
    "- for normal array, the search, insert, remove is O(n)\n",
    "- for sorted array, the search is O($\\log(n)$), the insert and remove is O(n)\n",
    "- for binary search tree, the search, insert, remove is O($log(n)$)\n",
    "### So Binary Search Tree can be used in:\n",
    "- Search/insert/remove (dynamically changing the data)\n",
    "- Can be used to figure out the relationship between different data\n",
    "- - min,max,floor,ceil,rank,select\n",
    "### Binary Search Tree doesn't need to be a complete Binary Tree"
   ]
  },
  {
   "cell_type": "code",
   "execution_count": 350,
   "metadata": {
    "collapsed": false
   },
   "outputs": [],
   "source": [
    "## DAMN!!!Forgot about self. every fk time\n",
    "\n",
    "class Node:\n",
    "    def __init__(self,key,value):\n",
    "        self.left = None\n",
    "        self.right = None\n",
    "        self.key = key\n",
    "        self.value = value\n",
    "\n",
    "class BST:\n",
    "    count = 0\n",
    "    def __init__(self,root=None):\n",
    "        if root:\n",
    "            self.count+=1\n",
    "        self.root = root\n",
    "    def is_empty(self):\n",
    "        return self.count==0\n",
    "    def insert(self,key,value):\n",
    "        self.root = self.ins(self.root,key,value)\n",
    "    def contain(self,key):\n",
    "        return self.cont(self.root,key)\n",
    "\n",
    "## When design search in BST, to choose the return value is a really important part:\n",
    "## 1. Node -- Not cool, this will force the user to understand what is used in BST class\n",
    "## 2. Value -- Not bad, though everytime we need some return back which forces user\n",
    "## to use contain first to check whether key is available\n",
    "    \n",
    "    def search(self,key):\n",
    "        return self.sch(self.root,key)\n",
    "    \n",
    "    def pre_order_print(self):\n",
    "        self.pre_order(self.root)\n",
    "        \n",
    "    def mid_order_print(self):\n",
    "        self.mid_order(self.root)\n",
    "        \n",
    "    def lat_order_print(self):\n",
    "        self.lat_order(self.root)\n",
    "        \n",
    "    def print_bfs(self):\n",
    "        self.level_order(self.root)\n",
    "        \n",
    "    def max_node(self):\n",
    "        max_node = self.root\n",
    "        while max_node.right:\n",
    "            max_node = max_node.right\n",
    "        return max_node\n",
    "        \n",
    "    def min_node(self):\n",
    "        min_node = self.root\n",
    "        while min_node.left:\n",
    "            min_node = min_node.left\n",
    "        return min_node\n",
    "##-----------------------Remove Min---------------------------##\n",
    "    def remove_min(self):\n",
    "        if self.root:\n",
    "            self.root = self.remove_minimum(self.root)\n",
    "            self.count -=1\n",
    "        \n",
    "    def remove_minimum(self,root):\n",
    "        if root.left is None:\n",
    "            root = root.right\n",
    "            return root\n",
    "        self.remove_minimum(root.left)\n",
    "        return root\n",
    "##------------------------------------------------------------##\n",
    "    \n",
    "    def sch(self,root,key):\n",
    "        if not root:\n",
    "            return None\n",
    "        if root.key == key:\n",
    "            return self.root.value\n",
    "        elif key < root.key:\n",
    "            return self.sch(root.left,key)\n",
    "        else:\n",
    "            return self.sch(root.right,key)\n",
    "    \n",
    "    def cont(self,root,key):\n",
    "        if not root:\n",
    "            return False\n",
    "        if key == root.key:\n",
    "            return True\n",
    "        elif key < root.key:\n",
    "            return self.cont(root.left,key)\n",
    "        else:\n",
    "            return self.cont(root.right,key)\n",
    "        \n",
    "    def ins(self,root,key,value):\n",
    "        if not root:\n",
    "            self.count+=1\n",
    "            return Node(key,value)\n",
    "        if key == root.key:\n",
    "            root.value = value\n",
    "        elif key < root.key:\n",
    "            root.left = self.ins(root.left,key,value)\n",
    "        else:\n",
    "            root.right = self.ins(root.right,key,value)\n",
    "            \n",
    "        return root\n",
    "##----------------------------------------------------------------------------    \n",
    "    def print_BST_order(self):\n",
    "        if not self.root:\n",
    "            return\n",
    "        print_BST_order(self.root.left)\n",
    "        print(\"Key:{},Value:{}\".format(self.root.key,self.root.value))\n",
    "        print_BST_order(self.root.right)\n",
    "##----------------------------------------------------------------------------\n",
    "\n",
    "    def pre_order(self,root):\n",
    "        if not root:\n",
    "            return\n",
    "        print(\"Key: {}, Value: {}\".format(root.key,root.value))\n",
    "        self.pre_order(root.left)\n",
    "        self.pre_order(root.right)\n",
    "        \n",
    "    def mid_order(self,root):\n",
    "        if not root:\n",
    "            return\n",
    "        self.mid_order(root.left)\n",
    "        print(\"Key: {}, Value: {}\".format(root.key,root.value))\n",
    "        self.mid_order(root.right)\n",
    "        \n",
    "    def lat_order(self,root):\n",
    "        if not root:\n",
    "            return\n",
    "        self.lat_order(root.left)\n",
    "        self.lat_order(root.right)\n",
    "        print(\"Key: {}, Value: {}\".format(root.key,root.value))\n",
    "## BFS \n",
    "    def level_order(self,root):\n",
    "        search_list = []\n",
    "        search_list.append(root)\n",
    "        while len(search_list)!=0:\n",
    "            search_node = search_list.pop(0)\n",
    "            if search_node.left is not None:\n",
    "                search_list.append(search_node.left)\n",
    "            if search_node.right is not None:\n",
    "                search_list.append(search_node.right)\n",
    "            print(\"Key: {}, Value: {}\".format(search_node.key,search_node.value))\n",
    "            "
   ]
  },
  {
   "cell_type": "code",
   "execution_count": 351,
   "metadata": {
    "collapsed": false
   },
   "outputs": [],
   "source": [
    "tree = BST()"
   ]
  },
  {
   "cell_type": "code",
   "execution_count": 352,
   "metadata": {
    "collapsed": false
   },
   "outputs": [],
   "source": [
    "tree.insert(10,\"First\")"
   ]
  },
  {
   "cell_type": "code",
   "execution_count": 353,
   "metadata": {
    "collapsed": false
   },
   "outputs": [],
   "source": [
    "tree.insert(3,\"Second\")"
   ]
  },
  {
   "cell_type": "code",
   "execution_count": 354,
   "metadata": {
    "collapsed": false
   },
   "outputs": [],
   "source": [
    "tree.insert(63,\"Third\")"
   ]
  },
  {
   "cell_type": "code",
   "execution_count": 355,
   "metadata": {
    "collapsed": true
   },
   "outputs": [],
   "source": [
    "tree.insert(15,\"Fourth\")"
   ]
  },
  {
   "cell_type": "code",
   "execution_count": 356,
   "metadata": {
    "collapsed": true
   },
   "outputs": [],
   "source": [
    "tree.insert(18,\"Fifth\")"
   ]
  },
  {
   "cell_type": "code",
   "execution_count": 357,
   "metadata": {
    "collapsed": false
   },
   "outputs": [
    {
     "data": {
      "text/plain": [
       "True"
      ]
     },
     "execution_count": 357,
     "metadata": {},
     "output_type": "execute_result"
    }
   ],
   "source": [
    "tree.contain(15)"
   ]
  },
  {
   "cell_type": "code",
   "execution_count": 358,
   "metadata": {
    "collapsed": false
   },
   "outputs": [
    {
     "data": {
      "text/plain": [
       "'First'"
      ]
     },
     "execution_count": 358,
     "metadata": {},
     "output_type": "execute_result"
    }
   ],
   "source": [
    "tree.search(18)"
   ]
  },
  {
   "cell_type": "code",
   "execution_count": 359,
   "metadata": {
    "collapsed": false
   },
   "outputs": [
    {
     "name": "stdout",
     "output_type": "stream",
     "text": [
      "Key: 10, Value: First\n",
      "Key: 3, Value: Second\n",
      "Key: 63, Value: Third\n",
      "Key: 15, Value: Fourth\n",
      "Key: 18, Value: Fifth\n"
     ]
    }
   ],
   "source": [
    "tree.pre_order_print()"
   ]
  },
  {
   "cell_type": "code",
   "execution_count": 360,
   "metadata": {
    "collapsed": false
   },
   "outputs": [
    {
     "name": "stdout",
     "output_type": "stream",
     "text": [
      "Key: 3, Value: Second\n",
      "Key: 10, Value: First\n",
      "Key: 15, Value: Fourth\n",
      "Key: 18, Value: Fifth\n",
      "Key: 63, Value: Third\n"
     ]
    }
   ],
   "source": [
    "tree.mid_order_print()"
   ]
  },
  {
   "cell_type": "code",
   "execution_count": 361,
   "metadata": {
    "collapsed": false
   },
   "outputs": [
    {
     "name": "stdout",
     "output_type": "stream",
     "text": [
      "Key: 3, Value: Second\n",
      "Key: 18, Value: Fifth\n",
      "Key: 15, Value: Fourth\n",
      "Key: 63, Value: Third\n",
      "Key: 10, Value: First\n"
     ]
    }
   ],
   "source": [
    "tree.lat_order_print()"
   ]
  },
  {
   "cell_type": "code",
   "execution_count": 362,
   "metadata": {
    "collapsed": false
   },
   "outputs": [
    {
     "name": "stdout",
     "output_type": "stream",
     "text": [
      "Key: 10, Value: First\n",
      "Key: 3, Value: Second\n",
      "Key: 63, Value: Third\n",
      "Key: 15, Value: Fourth\n",
      "Key: 18, Value: Fifth\n"
     ]
    }
   ],
   "source": [
    "tree.print_bfs()"
   ]
  },
  {
   "cell_type": "code",
   "execution_count": 363,
   "metadata": {
    "collapsed": false
   },
   "outputs": [
    {
     "data": {
      "text/plain": [
       "5"
      ]
     },
     "execution_count": 363,
     "metadata": {},
     "output_type": "execute_result"
    }
   ],
   "source": [
    "tree.count"
   ]
  },
  {
   "cell_type": "code",
   "execution_count": 364,
   "metadata": {
    "collapsed": false
   },
   "outputs": [
    {
     "data": {
      "text/plain": [
       "False"
      ]
     },
     "execution_count": 364,
     "metadata": {},
     "output_type": "execute_result"
    }
   ],
   "source": [
    "tree.is_empty()"
   ]
  },
  {
   "cell_type": "code",
   "execution_count": 365,
   "metadata": {
    "collapsed": false
   },
   "outputs": [
    {
     "name": "stdout",
     "output_type": "stream",
     "text": [
      "None\n"
     ]
    }
   ],
   "source": [
    "print(tree.remove_min())"
   ]
  },
  {
   "cell_type": "code",
   "execution_count": 366,
   "metadata": {
    "collapsed": false
   },
   "outputs": [
    {
     "data": {
      "text/plain": [
       "4"
      ]
     },
     "execution_count": 366,
     "metadata": {},
     "output_type": "execute_result"
    }
   ],
   "source": [
    "tree.count"
   ]
  },
  {
   "cell_type": "code",
   "execution_count": 367,
   "metadata": {
    "collapsed": false
   },
   "outputs": [
    {
     "name": "stdout",
     "output_type": "stream",
     "text": [
      "Key: 3, Value: Second\n",
      "Key: 18, Value: Fifth\n",
      "Key: 15, Value: Fourth\n",
      "Key: 63, Value: Third\n",
      "Key: 10, Value: First\n"
     ]
    }
   ],
   "source": [
    "tree.lat_order_print()"
   ]
  },
  {
   "cell_type": "code",
   "execution_count": null,
   "metadata": {
    "collapsed": true
   },
   "outputs": [],
   "source": []
  }
 ],
 "metadata": {
  "kernelspec": {
   "display_name": "Python 3",
   "language": "python",
   "name": "python3"
  },
  "language_info": {
   "codemirror_mode": {
    "name": "ipython",
    "version": 3
   },
   "file_extension": ".py",
   "mimetype": "text/x-python",
   "name": "python",
   "nbconvert_exporter": "python",
   "pygments_lexer": "ipython3",
   "version": "3.6.0"
  }
 },
 "nbformat": 4,
 "nbformat_minor": 2
}
