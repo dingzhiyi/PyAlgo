{
 "cells": [
  {
   "cell_type": "markdown",
   "metadata": {},
   "source": [
    "## Graph\n",
    "#### Undirected Graph\n",
    "Specific type of directed graph\n",
    "#### Directed Graph\n",
    "Not symmetrical, thus more difficult\n",
    "#### Unweighted Graph\n",
    "#### Weighted Graph\n",
    "#### The connectivity of Graph"
   ]
  },
  {
   "cell_type": "markdown",
   "metadata": {},
   "source": [
    "## Simple Graph\n",
    "Graph without self-loopand parallel-edges\n",
    "- For some questions simple graph is enough\n",
    "- Parallel-edges can be removed when considering the shortest path(like we can leave shortest edge and remove the rest of parallel-edges)"
   ]
  },
  {
   "cell_type": "markdown",
   "metadata": {},
   "source": [
    "## Methods to represent a graph"
   ]
  },
  {
   "cell_type": "markdown",
   "metadata": {},
   "source": [
    "- Adjacency Matrix"
   ]
  },
  {
   "cell_type": "code",
   "execution_count": 2,
   "metadata": {
    "collapsed": true
   },
   "outputs": [],
   "source": [
    "## undirected graph\n",
    "matrix = [[0,1,0,0],[1,0,1,1],[0,1,0,1],[0,1,1,0]]"
   ]
  },
  {
   "cell_type": "code",
   "execution_count": 3,
   "metadata": {
    "collapsed": true
   },
   "outputs": [],
   "source": [
    "## directed graph\n",
    "matrix = [[0,1,0,0],[0,0,1,0],[0,0,0,1],[0,1,0,0]]"
   ]
  },
  {
   "cell_type": "markdown",
   "metadata": {},
   "source": [
    "- Adjacency Lists"
   ]
  },
  {
   "cell_type": "code",
   "execution_count": 7,
   "metadata": {
    "collapsed": false
   },
   "outputs": [],
   "source": [
    "a = [x for x in range(4)]\n",
    "a[0] = 1\n",
    "a[1] = 2\n",
    "a[2] = 3\n",
    "a[3] = 1"
   ]
  },
  {
   "cell_type": "markdown",
   "metadata": {},
   "source": [
    "- Adjacency Lists should represent Sparse Graph(with many edges)\n",
    "- Adjacency Matrix should represent Dense Graph(with fewer edges)\n",
    "\n",
    "\n",
    "Since Adjacency Matrix is space-costly"
   ]
  },
  {
   "cell_type": "code",
   "execution_count": 23,
   "metadata": {
    "collapsed": false
   },
   "outputs": [],
   "source": [
    "class Dense_Graph:\n",
    "    \n",
    "    def __init__(self,n,directed):\n",
    "        self.node = n\n",
    "        self.edge = 0\n",
    "        self.directed = directed\n",
    "        self.graph = [[False for x in range(self.node)] for x in range(self.node)] \n",
    "    \n",
    "    def node_number(self):\n",
    "        return self.node\n",
    "    \n",
    "    def edge_number(self):\n",
    "        return self.edge\n",
    "    \n",
    "    def show_graph(self):\n",
    "        print(self.graph)\n",
    "    \n",
    "    def has_edge(self,x,y):\n",
    "        return self.graph[x][y]\n",
    "    \n",
    "    def add_edge(self,x,y):\n",
    "        assert x>=0 and x<self.node\n",
    "        assert y>=0 and y<self.node\n",
    "        if self.has_edge(x,y):\n",
    "            print(\"Edge has already existed\")\n",
    "        self.graph[x][y] = True\n",
    "        if not self.directed:\n",
    "            self.graph[y][x] = True"
   ]
  },
  {
   "cell_type": "code",
   "execution_count": 24,
   "metadata": {
    "collapsed": true
   },
   "outputs": [],
   "source": [
    "dense = Dense_Graph(3,True)"
   ]
  },
  {
   "cell_type": "code",
   "execution_count": 25,
   "metadata": {
    "collapsed": false
   },
   "outputs": [
    {
     "name": "stdout",
     "output_type": "stream",
     "text": [
      "[[False, False, False], [False, False, False], [False, False, False]]\n"
     ]
    }
   ],
   "source": [
    "dense.show_graph()"
   ]
  },
  {
   "cell_type": "code",
   "execution_count": 26,
   "metadata": {
    "collapsed": false
   },
   "outputs": [],
   "source": [
    "dense.add_edge(1,2)"
   ]
  },
  {
   "cell_type": "code",
   "execution_count": 27,
   "metadata": {
    "collapsed": false
   },
   "outputs": [
    {
     "name": "stdout",
     "output_type": "stream",
     "text": [
      "[[False, False, False], [False, False, True], [False, False, False]]\n"
     ]
    }
   ],
   "source": [
    "dense.show_graph()"
   ]
  },
  {
   "cell_type": "code",
   "execution_count": 3,
   "metadata": {
    "collapsed": false
   },
   "outputs": [],
   "source": [
    "class Sparse_Graph:\n",
    "    def __init__(self,n,directed):\n",
    "        self.node = n\n",
    "        self.edge = 0\n",
    "        self.directed = directed\n",
    "        self.graph = [[] for x in self.node]\n",
    "        \n",
    "    def node_number(self):\n",
    "        return self.node\n",
    "    \n",
    "    def edge_number(self):\n",
    "        return self.edge\n",
    "    \n",
    "    def add_edge(self,x,y):\n",
    "        assert x >= 0 and x < self.node\n",
    "        assert y >= 0 and y < self.node\n",
    "        \n",
    "        self.graph[x].append(y)\n",
    "        if not directed:\n",
    "            self.graph[y].append(x)\n",
    "        \n",
    "        self.edge += 1\n",
    "        \n",
    "## To check whether there is parallel edge\n",
    "## If there is, return True\n",
    "## Since this is O(n), not preferred\n",
    "## Disadvantage of adjacency Lists\n",
    "## Not gonna be added to add_edge, instead, we're gonna erase all the parallel\n",
    "## edge as soon as we have all the edges added\n",
    "\n",
    "    def has_edge(self,x,y):\n",
    "        assert x >= 0 and x < self.node\n",
    "        assert y >= 0 and y < self.node\n",
    "        \n",
    "        for i in range(len(self.graph[x])):\n",
    "            if self.graph[x][i] == y:\n",
    "                return True\n",
    "        return False\n",
    "        "
   ]
  },
  {
   "cell_type": "markdown",
   "metadata": {
    "collapsed": true
   },
   "source": [
    "### Most of the graph is sparse graph, so using adjacency list is sometimes better\n",
    "- To find whether two node has edge connected, with adjacency matrix the time complexity will be around O(node)\n",
    "- While with adjacency List the time complexity will be better"
   ]
  },
  {
   "cell_type": "markdown",
   "metadata": {
    "collapsed": true
   },
   "source": [
    "### Use a iterator to traverse the graph\n",
    "- We can hide the graph from the users"
   ]
  },
  {
   "cell_type": "code",
   "execution_count": 8,
   "metadata": {
    "collapsed": false
   },
   "outputs": [
    {
     "data": {
      "text/plain": [
       "'\\n\\n    class Iterator:\\n        def __init__(self, search_node, Graph = self.graph):\\n            self.search_node = search_node\\n            self.index = 0\\n            self.Graph = Graph\\n        \\n        def begin():\\n            if len(self.Graph[search_node]):\\n                return self.Graph[search_node][0]\\n            return -1\\n        \\n        def next():\\n            self.index += 1\\n            if self.index < len(self.Graph[search_node]):\\n                return self.Graph[search_node][index]\\n            return -1\\n        \\n        def end():\\n            return self.index >= len(self.Graph[search_node])\\n'"
      ]
     },
     "execution_count": 8,
     "metadata": {},
     "output_type": "execute_result"
    }
   ],
   "source": [
    "class Sparse_Graph:\n",
    "    def __init__(self,n,directed):\n",
    "        self.node = n\n",
    "        self.edge = 0\n",
    "        self.directed = directed\n",
    "        self.graph = [[] for x in self.node]\n",
    "        \n",
    "    def node_number(self):\n",
    "        return self.node\n",
    "    \n",
    "    def edge_number(self):\n",
    "        return self.edge\n",
    "    \n",
    "    def add_edge(self,x,y):\n",
    "        assert x >= 0 and x < self.node\n",
    "        assert y >= 0 and y < self.node\n",
    "        \n",
    "        self.graph[x].append(y)\n",
    "        if not directed:\n",
    "            self.graph[y].append(x)\n",
    "        \n",
    "        self.edge += 1\n",
    "        \n",
    "## To check whether there is parallel edge\n",
    "## If there is, return True\n",
    "## Since this is O(n), not preferred\n",
    "## Disadvantage of adjacency Lists\n",
    "## Not gonna be added to add_edge, instead, we're gonna erase all the parallel\n",
    "## edge as soon as we have all the edges added\n",
    "\n",
    "    def has_edge(self,x,y):\n",
    "        assert x >= 0 and x < self.node\n",
    "        assert y >= 0 and y < self.node\n",
    "        \n",
    "        for i in range(len(self.graph[x])):\n",
    "            if self.graph[x][i] == y:\n",
    "                return True\n",
    "        return False\n",
    "    \n",
    "'''\n",
    "    class Iterator:\n",
    "        def __init__(self, search_node, Graph = self.graph):\n",
    "            self.search_node = search_node\n",
    "            self.index = 0\n",
    "            self.Graph = Graph\n",
    "        \n",
    "        def begin():\n",
    "            if len(self.Graph[search_node]):\n",
    "                return self.Graph[search_node][0]\n",
    "            return -1\n",
    "        \n",
    "        def next():\n",
    "            self.index += 1\n",
    "            if self.index < len(self.Graph[search_node]):\n",
    "                return self.Graph[search_node][index]\n",
    "            return -1\n",
    "        \n",
    "        def end():\n",
    "            return self.index >= len(self.Graph[search_node])\n",
    "'''"
   ]
  },
  {
   "cell_type": "code",
   "execution_count": null,
   "metadata": {
    "collapsed": true
   },
   "outputs": [],
   "source": [
    "class Sparse_Graph:\n",
    "    def __init__(self,n,directed):\n",
    "        self.node = n\n",
    "        self.edge = 0\n",
    "        self.directed = directed\n",
    "        self.graph = [[] for x in self.node]\n",
    "        \n",
    "    def node_number(self):\n",
    "        return self.node\n",
    "    \n",
    "    def edge_number(self):\n",
    "        return self.edge\n",
    "    \n",
    "    def add_edge(self,x,y):\n",
    "        assert x >= 0 and x < self.node\n",
    "        assert y >= 0 and y < self.node\n",
    "        \n",
    "        self.graph[x].append(y)\n",
    "        if not directed:\n",
    "            self.graph[y].append(x)\n",
    "        \n",
    "        self.edge += 1\n",
    "        \n",
    "## To check whether there is parallel edge\n",
    "## If there is, return True\n",
    "## Since this is O(n), not preferred\n",
    "## Disadvantage of adjacency Lists\n",
    "## Not gonna be added to add_edge, instead, we're gonna erase all the parallel\n",
    "## edge as soon as we have all the edges added\n",
    "\n",
    "    def has_edge(self,x,y):\n",
    "        assert x >= 0 and x < self.node\n",
    "        assert y >= 0 and y < self.node\n",
    "        \n",
    "        for i in range(len(self.graph[x])):\n",
    "            if self.graph[x][i] == y:\n",
    "                return True\n",
    "        return False\n",
    "    \n",
    "    def df_search(self):\n",
    "        searched = []\n",
    "        "
   ]
  },
  {
   "cell_type": "code",
   "execution_count": null,
   "metadata": {
    "collapsed": true
   },
   "outputs": [],
   "source": []
  }
 ],
 "metadata": {
  "kernelspec": {
   "display_name": "Python 3",
   "language": "python",
   "name": "python3"
  },
  "language_info": {
   "codemirror_mode": {
    "name": "ipython",
    "version": 3
   },
   "file_extension": ".py",
   "mimetype": "text/x-python",
   "name": "python",
   "nbconvert_exporter": "python",
   "pygments_lexer": "ipython3",
   "version": "3.6.0"
  }
 },
 "nbformat": 4,
 "nbformat_minor": 2
}
